{
 "cells": [
  {
   "cell_type": "code",
   "execution_count": 2,
   "metadata": {},
   "outputs": [],
   "source": [
    "import pandas as pd\n",
    "import matplotlib.pyplot as plt\n",
    "import seaborn as sns\n",
    "import numpy as np"
   ]
  },
  {
   "cell_type": "code",
   "execution_count": 3,
   "metadata": {},
   "outputs": [],
   "source": [
    "df1= pd.read_csv('messages.csv')"
   ]
  },
  {
   "cell_type": "code",
   "execution_count": 4,
   "metadata": {},
   "outputs": [
    {
     "data": {
      "text/html": [
       "<div>\n",
       "<style scoped>\n",
       "    .dataframe tbody tr th:only-of-type {\n",
       "        vertical-align: middle;\n",
       "    }\n",
       "\n",
       "    .dataframe tbody tr th {\n",
       "        vertical-align: top;\n",
       "    }\n",
       "\n",
       "    .dataframe thead th {\n",
       "        text-align: right;\n",
       "    }\n",
       "</style>\n",
       "<table border=\"1\" class=\"dataframe\">\n",
       "  <thead>\n",
       "    <tr style=\"text-align: right;\">\n",
       "      <th></th>\n",
       "      <th>sender</th>\n",
       "      <th>receiver</th>\n",
       "      <th>timestamp</th>\n",
       "      <th>message_length</th>\n",
       "    </tr>\n",
       "  </thead>\n",
       "  <tbody>\n",
       "    <tr>\n",
       "      <th>0</th>\n",
       "      <td>79</td>\n",
       "      <td>48</td>\n",
       "      <td>2021-06-02 05:41:34</td>\n",
       "      <td>88</td>\n",
       "    </tr>\n",
       "    <tr>\n",
       "      <th>1</th>\n",
       "      <td>79</td>\n",
       "      <td>63</td>\n",
       "      <td>2021-06-02 05:42:15</td>\n",
       "      <td>72</td>\n",
       "    </tr>\n",
       "    <tr>\n",
       "      <th>2</th>\n",
       "      <td>79</td>\n",
       "      <td>58</td>\n",
       "      <td>2021-06-02 05:44:24</td>\n",
       "      <td>86</td>\n",
       "    </tr>\n",
       "    <tr>\n",
       "      <th>3</th>\n",
       "      <td>79</td>\n",
       "      <td>70</td>\n",
       "      <td>2021-06-02 05:49:07</td>\n",
       "      <td>26</td>\n",
       "    </tr>\n",
       "    <tr>\n",
       "      <th>4</th>\n",
       "      <td>79</td>\n",
       "      <td>109</td>\n",
       "      <td>2021-06-02 19:51:47</td>\n",
       "      <td>73</td>\n",
       "    </tr>\n",
       "  </tbody>\n",
       "</table>\n",
       "</div>"
      ],
      "text/plain": [
       "   sender  receiver            timestamp  message_length\n",
       "0      79        48  2021-06-02 05:41:34              88\n",
       "1      79        63  2021-06-02 05:42:15              72\n",
       "2      79        58  2021-06-02 05:44:24              86\n",
       "3      79        70  2021-06-02 05:49:07              26\n",
       "4      79       109  2021-06-02 19:51:47              73"
      ]
     },
     "execution_count": 4,
     "metadata": {},
     "output_type": "execute_result"
    }
   ],
   "source": [
    "df1.head()"
   ]
  },
  {
   "cell_type": "code",
   "execution_count": 5,
   "metadata": {},
   "outputs": [],
   "source": [
    "df2 = pd.read_csv('employees.csv')"
   ]
  },
  {
   "cell_type": "code",
   "execution_count": 6,
   "metadata": {},
   "outputs": [
    {
     "data": {
      "text/html": [
       "<div>\n",
       "<style scoped>\n",
       "    .dataframe tbody tr th:only-of-type {\n",
       "        vertical-align: middle;\n",
       "    }\n",
       "\n",
       "    .dataframe tbody tr th {\n",
       "        vertical-align: top;\n",
       "    }\n",
       "\n",
       "    .dataframe thead th {\n",
       "        text-align: right;\n",
       "    }\n",
       "</style>\n",
       "<table border=\"1\" class=\"dataframe\">\n",
       "  <thead>\n",
       "    <tr style=\"text-align: right;\">\n",
       "      <th></th>\n",
       "      <th>id</th>\n",
       "      <th>department</th>\n",
       "      <th>location</th>\n",
       "      <th>age</th>\n",
       "    </tr>\n",
       "  </thead>\n",
       "  <tbody>\n",
       "    <tr>\n",
       "      <th>0</th>\n",
       "      <td>3</td>\n",
       "      <td>Operations</td>\n",
       "      <td>US</td>\n",
       "      <td>33</td>\n",
       "    </tr>\n",
       "    <tr>\n",
       "      <th>1</th>\n",
       "      <td>6</td>\n",
       "      <td>Sales</td>\n",
       "      <td>UK</td>\n",
       "      <td>50</td>\n",
       "    </tr>\n",
       "    <tr>\n",
       "      <th>2</th>\n",
       "      <td>8</td>\n",
       "      <td>IT</td>\n",
       "      <td>Brasil</td>\n",
       "      <td>54</td>\n",
       "    </tr>\n",
       "    <tr>\n",
       "      <th>3</th>\n",
       "      <td>9</td>\n",
       "      <td>Admin</td>\n",
       "      <td>UK</td>\n",
       "      <td>32</td>\n",
       "    </tr>\n",
       "    <tr>\n",
       "      <th>4</th>\n",
       "      <td>12</td>\n",
       "      <td>Operations</td>\n",
       "      <td>Brasil</td>\n",
       "      <td>51</td>\n",
       "    </tr>\n",
       "  </tbody>\n",
       "</table>\n",
       "</div>"
      ],
      "text/plain": [
       "   id  department location  age\n",
       "0   3  Operations       US   33\n",
       "1   6       Sales       UK   50\n",
       "2   8          IT   Brasil   54\n",
       "3   9       Admin       UK   32\n",
       "4  12  Operations   Brasil   51"
      ]
     },
     "execution_count": 6,
     "metadata": {},
     "output_type": "execute_result"
    }
   ],
   "source": [
    "df2.head()"
   ]
  },
  {
   "cell_type": "code",
   "execution_count": 7,
   "metadata": {},
   "outputs": [],
   "source": [
    "df = df1.merge(df2, left_on='sender',right_on='id', how='left')"
   ]
  },
  {
   "cell_type": "code",
   "execution_count": 8,
   "metadata": {},
   "outputs": [],
   "source": [
    "df.rename(columns={'department':'sender_department','location':'sender_location','age':'sender_age'},inplace=True)"
   ]
  },
  {
   "cell_type": "code",
   "execution_count": 9,
   "metadata": {},
   "outputs": [
    {
     "data": {
      "text/html": [
       "<div>\n",
       "<style scoped>\n",
       "    .dataframe tbody tr th:only-of-type {\n",
       "        vertical-align: middle;\n",
       "    }\n",
       "\n",
       "    .dataframe tbody tr th {\n",
       "        vertical-align: top;\n",
       "    }\n",
       "\n",
       "    .dataframe thead th {\n",
       "        text-align: right;\n",
       "    }\n",
       "</style>\n",
       "<table border=\"1\" class=\"dataframe\">\n",
       "  <thead>\n",
       "    <tr style=\"text-align: right;\">\n",
       "      <th></th>\n",
       "      <th>sender</th>\n",
       "      <th>receiver</th>\n",
       "      <th>timestamp</th>\n",
       "      <th>message_length</th>\n",
       "      <th>id</th>\n",
       "      <th>sender_department</th>\n",
       "      <th>sender_location</th>\n",
       "      <th>sender_age</th>\n",
       "    </tr>\n",
       "  </thead>\n",
       "  <tbody>\n",
       "    <tr>\n",
       "      <th>0</th>\n",
       "      <td>79</td>\n",
       "      <td>48</td>\n",
       "      <td>2021-06-02 05:41:34</td>\n",
       "      <td>88</td>\n",
       "      <td>79</td>\n",
       "      <td>Sales</td>\n",
       "      <td>France</td>\n",
       "      <td>33</td>\n",
       "    </tr>\n",
       "    <tr>\n",
       "      <th>1</th>\n",
       "      <td>79</td>\n",
       "      <td>63</td>\n",
       "      <td>2021-06-02 05:42:15</td>\n",
       "      <td>72</td>\n",
       "      <td>79</td>\n",
       "      <td>Sales</td>\n",
       "      <td>France</td>\n",
       "      <td>33</td>\n",
       "    </tr>\n",
       "    <tr>\n",
       "      <th>2</th>\n",
       "      <td>79</td>\n",
       "      <td>58</td>\n",
       "      <td>2021-06-02 05:44:24</td>\n",
       "      <td>86</td>\n",
       "      <td>79</td>\n",
       "      <td>Sales</td>\n",
       "      <td>France</td>\n",
       "      <td>33</td>\n",
       "    </tr>\n",
       "    <tr>\n",
       "      <th>3</th>\n",
       "      <td>79</td>\n",
       "      <td>70</td>\n",
       "      <td>2021-06-02 05:49:07</td>\n",
       "      <td>26</td>\n",
       "      <td>79</td>\n",
       "      <td>Sales</td>\n",
       "      <td>France</td>\n",
       "      <td>33</td>\n",
       "    </tr>\n",
       "    <tr>\n",
       "      <th>4</th>\n",
       "      <td>79</td>\n",
       "      <td>109</td>\n",
       "      <td>2021-06-02 19:51:47</td>\n",
       "      <td>73</td>\n",
       "      <td>79</td>\n",
       "      <td>Sales</td>\n",
       "      <td>France</td>\n",
       "      <td>33</td>\n",
       "    </tr>\n",
       "  </tbody>\n",
       "</table>\n",
       "</div>"
      ],
      "text/plain": [
       "   sender  receiver  ... sender_location  sender_age\n",
       "0      79        48  ...          France          33\n",
       "1      79        63  ...          France          33\n",
       "2      79        58  ...          France          33\n",
       "3      79        70  ...          France          33\n",
       "4      79       109  ...          France          33\n",
       "\n",
       "[5 rows x 8 columns]"
      ]
     },
     "execution_count": 9,
     "metadata": {},
     "output_type": "execute_result"
    }
   ],
   "source": [
    "df.head()"
   ]
  },
  {
   "cell_type": "code",
   "execution_count": 10,
   "metadata": {},
   "outputs": [],
   "source": [
    "df.drop(columns='id',inplace=True)"
   ]
  },
  {
   "cell_type": "code",
   "execution_count": 11,
   "metadata": {},
   "outputs": [
    {
     "data": {
      "text/html": [
       "<div>\n",
       "<style scoped>\n",
       "    .dataframe tbody tr th:only-of-type {\n",
       "        vertical-align: middle;\n",
       "    }\n",
       "\n",
       "    .dataframe tbody tr th {\n",
       "        vertical-align: top;\n",
       "    }\n",
       "\n",
       "    .dataframe thead th {\n",
       "        text-align: right;\n",
       "    }\n",
       "</style>\n",
       "<table border=\"1\" class=\"dataframe\">\n",
       "  <thead>\n",
       "    <tr style=\"text-align: right;\">\n",
       "      <th></th>\n",
       "      <th>sender</th>\n",
       "      <th>receiver</th>\n",
       "      <th>timestamp</th>\n",
       "      <th>message_length</th>\n",
       "      <th>sender_department</th>\n",
       "      <th>sender_location</th>\n",
       "      <th>sender_age</th>\n",
       "    </tr>\n",
       "  </thead>\n",
       "  <tbody>\n",
       "    <tr>\n",
       "      <th>0</th>\n",
       "      <td>79</td>\n",
       "      <td>48</td>\n",
       "      <td>2021-06-02 05:41:34</td>\n",
       "      <td>88</td>\n",
       "      <td>Sales</td>\n",
       "      <td>France</td>\n",
       "      <td>33</td>\n",
       "    </tr>\n",
       "    <tr>\n",
       "      <th>1</th>\n",
       "      <td>79</td>\n",
       "      <td>63</td>\n",
       "      <td>2021-06-02 05:42:15</td>\n",
       "      <td>72</td>\n",
       "      <td>Sales</td>\n",
       "      <td>France</td>\n",
       "      <td>33</td>\n",
       "    </tr>\n",
       "    <tr>\n",
       "      <th>2</th>\n",
       "      <td>79</td>\n",
       "      <td>58</td>\n",
       "      <td>2021-06-02 05:44:24</td>\n",
       "      <td>86</td>\n",
       "      <td>Sales</td>\n",
       "      <td>France</td>\n",
       "      <td>33</td>\n",
       "    </tr>\n",
       "    <tr>\n",
       "      <th>3</th>\n",
       "      <td>79</td>\n",
       "      <td>70</td>\n",
       "      <td>2021-06-02 05:49:07</td>\n",
       "      <td>26</td>\n",
       "      <td>Sales</td>\n",
       "      <td>France</td>\n",
       "      <td>33</td>\n",
       "    </tr>\n",
       "    <tr>\n",
       "      <th>4</th>\n",
       "      <td>79</td>\n",
       "      <td>109</td>\n",
       "      <td>2021-06-02 19:51:47</td>\n",
       "      <td>73</td>\n",
       "      <td>Sales</td>\n",
       "      <td>France</td>\n",
       "      <td>33</td>\n",
       "    </tr>\n",
       "  </tbody>\n",
       "</table>\n",
       "</div>"
      ],
      "text/plain": [
       "   sender  receiver  ... sender_location  sender_age\n",
       "0      79        48  ...          France          33\n",
       "1      79        63  ...          France          33\n",
       "2      79        58  ...          France          33\n",
       "3      79        70  ...          France          33\n",
       "4      79       109  ...          France          33\n",
       "\n",
       "[5 rows x 7 columns]"
      ]
     },
     "execution_count": 11,
     "metadata": {},
     "output_type": "execute_result"
    }
   ],
   "source": [
    "df.head()"
   ]
  },
  {
   "cell_type": "code",
   "execution_count": 12,
   "metadata": {},
   "outputs": [],
   "source": [
    "df = df.merge(df2, left_on='receiver',right_on='id', how='left')"
   ]
  },
  {
   "cell_type": "code",
   "execution_count": 13,
   "metadata": {},
   "outputs": [
    {
     "data": {
      "text/plain": [
       "sender               0\n",
       "receiver             0\n",
       "timestamp            0\n",
       "message_length       0\n",
       "sender_department    0\n",
       "sender_location      0\n",
       "sender_age           0\n",
       "id                   0\n",
       "department           0\n",
       "location             0\n",
       "age                  0\n",
       "dtype: int64"
      ]
     },
     "execution_count": 13,
     "metadata": {},
     "output_type": "execute_result"
    }
   ],
   "source": [
    "df.isnull().sum()"
   ]
  },
  {
   "cell_type": "code",
   "execution_count": 14,
   "metadata": {},
   "outputs": [
    {
     "data": {
      "text/html": [
       "<div>\n",
       "<style scoped>\n",
       "    .dataframe tbody tr th:only-of-type {\n",
       "        vertical-align: middle;\n",
       "    }\n",
       "\n",
       "    .dataframe tbody tr th {\n",
       "        vertical-align: top;\n",
       "    }\n",
       "\n",
       "    .dataframe thead th {\n",
       "        text-align: right;\n",
       "    }\n",
       "</style>\n",
       "<table border=\"1\" class=\"dataframe\">\n",
       "  <thead>\n",
       "    <tr style=\"text-align: right;\">\n",
       "      <th></th>\n",
       "      <th>sender</th>\n",
       "      <th>receiver</th>\n",
       "      <th>timestamp</th>\n",
       "      <th>message_length</th>\n",
       "      <th>sender_department</th>\n",
       "      <th>sender_location</th>\n",
       "      <th>sender_age</th>\n",
       "      <th>id</th>\n",
       "      <th>department</th>\n",
       "      <th>location</th>\n",
       "      <th>age</th>\n",
       "    </tr>\n",
       "  </thead>\n",
       "  <tbody>\n",
       "    <tr>\n",
       "      <th>0</th>\n",
       "      <td>79</td>\n",
       "      <td>48</td>\n",
       "      <td>2021-06-02 05:41:34</td>\n",
       "      <td>88</td>\n",
       "      <td>Sales</td>\n",
       "      <td>France</td>\n",
       "      <td>33</td>\n",
       "      <td>48</td>\n",
       "      <td>IT</td>\n",
       "      <td>France</td>\n",
       "      <td>34</td>\n",
       "    </tr>\n",
       "    <tr>\n",
       "      <th>1</th>\n",
       "      <td>79</td>\n",
       "      <td>63</td>\n",
       "      <td>2021-06-02 05:42:15</td>\n",
       "      <td>72</td>\n",
       "      <td>Sales</td>\n",
       "      <td>France</td>\n",
       "      <td>33</td>\n",
       "      <td>63</td>\n",
       "      <td>Sales</td>\n",
       "      <td>France</td>\n",
       "      <td>38</td>\n",
       "    </tr>\n",
       "    <tr>\n",
       "      <th>2</th>\n",
       "      <td>79</td>\n",
       "      <td>58</td>\n",
       "      <td>2021-06-02 05:44:24</td>\n",
       "      <td>86</td>\n",
       "      <td>Sales</td>\n",
       "      <td>France</td>\n",
       "      <td>33</td>\n",
       "      <td>58</td>\n",
       "      <td>Sales</td>\n",
       "      <td>Germany</td>\n",
       "      <td>40</td>\n",
       "    </tr>\n",
       "    <tr>\n",
       "      <th>3</th>\n",
       "      <td>79</td>\n",
       "      <td>70</td>\n",
       "      <td>2021-06-02 05:49:07</td>\n",
       "      <td>26</td>\n",
       "      <td>Sales</td>\n",
       "      <td>France</td>\n",
       "      <td>33</td>\n",
       "      <td>70</td>\n",
       "      <td>Operations</td>\n",
       "      <td>France</td>\n",
       "      <td>47</td>\n",
       "    </tr>\n",
       "    <tr>\n",
       "      <th>4</th>\n",
       "      <td>79</td>\n",
       "      <td>109</td>\n",
       "      <td>2021-06-02 19:51:47</td>\n",
       "      <td>73</td>\n",
       "      <td>Sales</td>\n",
       "      <td>France</td>\n",
       "      <td>33</td>\n",
       "      <td>109</td>\n",
       "      <td>Marketing</td>\n",
       "      <td>Brasil</td>\n",
       "      <td>32</td>\n",
       "    </tr>\n",
       "  </tbody>\n",
       "</table>\n",
       "</div>"
      ],
      "text/plain": [
       "   sender  receiver            timestamp  ...  department location age\n",
       "0      79        48  2021-06-02 05:41:34  ...          IT   France  34\n",
       "1      79        63  2021-06-02 05:42:15  ...       Sales   France  38\n",
       "2      79        58  2021-06-02 05:44:24  ...       Sales  Germany  40\n",
       "3      79        70  2021-06-02 05:49:07  ...  Operations   France  47\n",
       "4      79       109  2021-06-02 19:51:47  ...   Marketing   Brasil  32\n",
       "\n",
       "[5 rows x 11 columns]"
      ]
     },
     "execution_count": 14,
     "metadata": {},
     "output_type": "execute_result"
    }
   ],
   "source": [
    "df.head()"
   ]
  },
  {
   "cell_type": "code",
   "execution_count": 15,
   "metadata": {},
   "outputs": [],
   "source": [
    "df.rename(columns= {'sender' : 'sender_id','id':'reciever_id','department':'receiver_department','location':'receiever_location'},inplace=True)"
   ]
  },
  {
   "cell_type": "code",
   "execution_count": 16,
   "metadata": {},
   "outputs": [
    {
     "data": {
      "text/html": [
       "<div>\n",
       "<style scoped>\n",
       "    .dataframe tbody tr th:only-of-type {\n",
       "        vertical-align: middle;\n",
       "    }\n",
       "\n",
       "    .dataframe tbody tr th {\n",
       "        vertical-align: top;\n",
       "    }\n",
       "\n",
       "    .dataframe thead th {\n",
       "        text-align: right;\n",
       "    }\n",
       "</style>\n",
       "<table border=\"1\" class=\"dataframe\">\n",
       "  <thead>\n",
       "    <tr style=\"text-align: right;\">\n",
       "      <th></th>\n",
       "      <th>sender_id</th>\n",
       "      <th>receiver</th>\n",
       "      <th>timestamp</th>\n",
       "      <th>message_length</th>\n",
       "      <th>sender_department</th>\n",
       "      <th>sender_location</th>\n",
       "      <th>sender_age</th>\n",
       "      <th>reciever_id</th>\n",
       "      <th>receiver_department</th>\n",
       "      <th>receiever_location</th>\n",
       "      <th>age</th>\n",
       "    </tr>\n",
       "  </thead>\n",
       "  <tbody>\n",
       "    <tr>\n",
       "      <th>0</th>\n",
       "      <td>79</td>\n",
       "      <td>48</td>\n",
       "      <td>2021-06-02 05:41:34</td>\n",
       "      <td>88</td>\n",
       "      <td>Sales</td>\n",
       "      <td>France</td>\n",
       "      <td>33</td>\n",
       "      <td>48</td>\n",
       "      <td>IT</td>\n",
       "      <td>France</td>\n",
       "      <td>34</td>\n",
       "    </tr>\n",
       "    <tr>\n",
       "      <th>1</th>\n",
       "      <td>79</td>\n",
       "      <td>63</td>\n",
       "      <td>2021-06-02 05:42:15</td>\n",
       "      <td>72</td>\n",
       "      <td>Sales</td>\n",
       "      <td>France</td>\n",
       "      <td>33</td>\n",
       "      <td>63</td>\n",
       "      <td>Sales</td>\n",
       "      <td>France</td>\n",
       "      <td>38</td>\n",
       "    </tr>\n",
       "    <tr>\n",
       "      <th>2</th>\n",
       "      <td>79</td>\n",
       "      <td>58</td>\n",
       "      <td>2021-06-02 05:44:24</td>\n",
       "      <td>86</td>\n",
       "      <td>Sales</td>\n",
       "      <td>France</td>\n",
       "      <td>33</td>\n",
       "      <td>58</td>\n",
       "      <td>Sales</td>\n",
       "      <td>Germany</td>\n",
       "      <td>40</td>\n",
       "    </tr>\n",
       "    <tr>\n",
       "      <th>3</th>\n",
       "      <td>79</td>\n",
       "      <td>70</td>\n",
       "      <td>2021-06-02 05:49:07</td>\n",
       "      <td>26</td>\n",
       "      <td>Sales</td>\n",
       "      <td>France</td>\n",
       "      <td>33</td>\n",
       "      <td>70</td>\n",
       "      <td>Operations</td>\n",
       "      <td>France</td>\n",
       "      <td>47</td>\n",
       "    </tr>\n",
       "    <tr>\n",
       "      <th>4</th>\n",
       "      <td>79</td>\n",
       "      <td>109</td>\n",
       "      <td>2021-06-02 19:51:47</td>\n",
       "      <td>73</td>\n",
       "      <td>Sales</td>\n",
       "      <td>France</td>\n",
       "      <td>33</td>\n",
       "      <td>109</td>\n",
       "      <td>Marketing</td>\n",
       "      <td>Brasil</td>\n",
       "      <td>32</td>\n",
       "    </tr>\n",
       "  </tbody>\n",
       "</table>\n",
       "</div>"
      ],
      "text/plain": [
       "   sender_id  receiver  ... receiever_location  age\n",
       "0         79        48  ...             France   34\n",
       "1         79        63  ...             France   38\n",
       "2         79        58  ...            Germany   40\n",
       "3         79        70  ...             France   47\n",
       "4         79       109  ...             Brasil   32\n",
       "\n",
       "[5 rows x 11 columns]"
      ]
     },
     "execution_count": 16,
     "metadata": {},
     "output_type": "execute_result"
    }
   ],
   "source": [
    "df.head()"
   ]
  },
  {
   "cell_type": "code",
   "execution_count": 17,
   "metadata": {},
   "outputs": [],
   "source": [
    "df.drop(columns=['receiver','sender_age','age'],inplace=True)"
   ]
  },
  {
   "cell_type": "code",
   "execution_count": 18,
   "metadata": {},
   "outputs": [
    {
     "data": {
      "text/html": [
       "<div>\n",
       "<style scoped>\n",
       "    .dataframe tbody tr th:only-of-type {\n",
       "        vertical-align: middle;\n",
       "    }\n",
       "\n",
       "    .dataframe tbody tr th {\n",
       "        vertical-align: top;\n",
       "    }\n",
       "\n",
       "    .dataframe thead th {\n",
       "        text-align: right;\n",
       "    }\n",
       "</style>\n",
       "<table border=\"1\" class=\"dataframe\">\n",
       "  <thead>\n",
       "    <tr style=\"text-align: right;\">\n",
       "      <th></th>\n",
       "      <th>sender_id</th>\n",
       "      <th>timestamp</th>\n",
       "      <th>message_length</th>\n",
       "      <th>sender_department</th>\n",
       "      <th>sender_location</th>\n",
       "      <th>reciever_id</th>\n",
       "      <th>receiver_department</th>\n",
       "      <th>receiever_location</th>\n",
       "    </tr>\n",
       "  </thead>\n",
       "  <tbody>\n",
       "    <tr>\n",
       "      <th>0</th>\n",
       "      <td>79</td>\n",
       "      <td>2021-06-02 05:41:34</td>\n",
       "      <td>88</td>\n",
       "      <td>Sales</td>\n",
       "      <td>France</td>\n",
       "      <td>48</td>\n",
       "      <td>IT</td>\n",
       "      <td>France</td>\n",
       "    </tr>\n",
       "    <tr>\n",
       "      <th>1</th>\n",
       "      <td>79</td>\n",
       "      <td>2021-06-02 05:42:15</td>\n",
       "      <td>72</td>\n",
       "      <td>Sales</td>\n",
       "      <td>France</td>\n",
       "      <td>63</td>\n",
       "      <td>Sales</td>\n",
       "      <td>France</td>\n",
       "    </tr>\n",
       "    <tr>\n",
       "      <th>2</th>\n",
       "      <td>79</td>\n",
       "      <td>2021-06-02 05:44:24</td>\n",
       "      <td>86</td>\n",
       "      <td>Sales</td>\n",
       "      <td>France</td>\n",
       "      <td>58</td>\n",
       "      <td>Sales</td>\n",
       "      <td>Germany</td>\n",
       "    </tr>\n",
       "    <tr>\n",
       "      <th>3</th>\n",
       "      <td>79</td>\n",
       "      <td>2021-06-02 05:49:07</td>\n",
       "      <td>26</td>\n",
       "      <td>Sales</td>\n",
       "      <td>France</td>\n",
       "      <td>70</td>\n",
       "      <td>Operations</td>\n",
       "      <td>France</td>\n",
       "    </tr>\n",
       "    <tr>\n",
       "      <th>4</th>\n",
       "      <td>79</td>\n",
       "      <td>2021-06-02 19:51:47</td>\n",
       "      <td>73</td>\n",
       "      <td>Sales</td>\n",
       "      <td>France</td>\n",
       "      <td>109</td>\n",
       "      <td>Marketing</td>\n",
       "      <td>Brasil</td>\n",
       "    </tr>\n",
       "  </tbody>\n",
       "</table>\n",
       "</div>"
      ],
      "text/plain": [
       "   sender_id            timestamp  ...  receiver_department receiever_location\n",
       "0         79  2021-06-02 05:41:34  ...                   IT             France\n",
       "1         79  2021-06-02 05:42:15  ...                Sales             France\n",
       "2         79  2021-06-02 05:44:24  ...                Sales            Germany\n",
       "3         79  2021-06-02 05:49:07  ...           Operations             France\n",
       "4         79  2021-06-02 19:51:47  ...            Marketing             Brasil\n",
       "\n",
       "[5 rows x 8 columns]"
      ]
     },
     "execution_count": 18,
     "metadata": {},
     "output_type": "execute_result"
    }
   ],
   "source": [
    "df.head()"
   ]
  },
  {
   "cell_type": "markdown",
   "metadata": {},
   "source": [
    "## Q1  Which departments are the most/least active?"
   ]
  },
  {
   "cell_type": "markdown",
   "metadata": {},
   "source": [
    "#### The Most Message sender department"
   ]
  },
  {
   "cell_type": "code",
   "execution_count": 19,
   "metadata": {},
   "outputs": [
    {
     "data": {
      "image/png": "[encoded data removed]",
      "text/plain": [
       "<Figure size 1152x648 with 1 Axes>"
      ]
     },
     "metadata": {
      "needs_background": "light"
     },
     "output_type": "display_data"
    }
   ],
   "source": [
    "fig,ax = plt.subplots(figsize=(16,9))\n",
    "ax = sns.countplot(data=df,x='sender_department',order=df['sender_department'].value_counts().index)\n",
    "ax.bar_label(ax.containers[0]);"
   ]
  },
  {
   "cell_type": "markdown",
   "metadata": {},
   "source": [
    "#### The Most Message Receiving Department"
   ]
  },
  {
   "cell_type": "code",
   "execution_count": 20,
   "metadata": {},
   "outputs": [
    {
     "data": {
      "image/png": "[encoded data removed]",
      "text/plain": [
       "<Figure size 1152x648 with 1 Axes>"
      ]
     },
     "metadata": {
      "needs_background": "light"
     },
     "output_type": "display_data"
    }
   ],
   "source": [
    "fig,ax = plt.subplots(figsize=(16,9))\n",
    "ax = sns.countplot(data=df,x='receiver_department',order=df['receiver_department'].value_counts().iloc[:5].index)\n",
    "ax.bar_label(ax.containers[0]);"
   ]
  },
  {
   "cell_type": "markdown",
   "metadata": {},
   "source": [
    "#### Which employee has the most connections? "
   ]
  },
  {
   "cell_type": "code",
   "execution_count": 21,
   "metadata": {},
   "outputs": [
    {
     "data": {
      "image/png": "[encoded data removed]",
      "text/plain": [
       "<Figure size 1152x648 with 1 Axes>"
      ]
     },
     "metadata": {
      "needs_background": "light"
     },
     "output_type": "display_data"
    }
   ],
   "source": [
    "### The top 5 message Sender Employee \n",
    "fig,ax = plt.subplots(figsize=(16,9))\n",
    "ax = sns.countplot(data=df,x='sender_id',order=df['sender_id'].value_counts(ascending=False).iloc[:5].index)\n",
    "ax.bar_label(ax.containers[0]);\n"
   ]
  },
  {
   "cell_type": "code",
   "execution_count": 22,
   "metadata": {},
   "outputs": [
    {
     "data": {
      "image/png": "[encoded data removed]",
      "text/plain": [
       "<Figure size 1152x648 with 1 Axes>"
      ]
     },
     "metadata": {
      "needs_background": "light"
     },
     "output_type": "display_data"
    }
   ],
   "source": [
    "### Top 5 Message Recieving Employee\n",
    "\n",
    "fig,ax = plt.subplots(figsize=(16,9))\n",
    "ax = sns.countplot(data=df, x=df['reciever_id'],order=df['reciever_id'].value_counts(ascending=False).iloc[:5].index)\n",
    "ax.bar_label(ax.containers[0]);"
   ]
  },
  {
   "cell_type": "markdown",
   "metadata": {},
   "source": [
    " ### Identify the most influential departments and employees."
   ]
  },
  {
   "cell_type": "code",
   "execution_count": 23,
   "metadata": {},
   "outputs": [
    {
     "data": {
      "text/html": [
       "<div>\n",
       "<style scoped>\n",
       "    .dataframe tbody tr th:only-of-type {\n",
       "        vertical-align: middle;\n",
       "    }\n",
       "\n",
       "    .dataframe tbody tr th {\n",
       "        vertical-align: top;\n",
       "    }\n",
       "\n",
       "    .dataframe thead th {\n",
       "        text-align: right;\n",
       "    }\n",
       "</style>\n",
       "<table border=\"1\" class=\"dataframe\">\n",
       "  <thead>\n",
       "    <tr style=\"text-align: right;\">\n",
       "      <th></th>\n",
       "      <th>sender_id</th>\n",
       "      <th>timestamp</th>\n",
       "      <th>message_length</th>\n",
       "      <th>sender_department</th>\n",
       "      <th>sender_location</th>\n",
       "      <th>reciever_id</th>\n",
       "      <th>receiver_department</th>\n",
       "      <th>receiever_location</th>\n",
       "    </tr>\n",
       "  </thead>\n",
       "  <tbody>\n",
       "    <tr>\n",
       "      <th>0</th>\n",
       "      <td>79</td>\n",
       "      <td>2021-06-02 05:41:34</td>\n",
       "      <td>88</td>\n",
       "      <td>Sales</td>\n",
       "      <td>France</td>\n",
       "      <td>48</td>\n",
       "      <td>IT</td>\n",
       "      <td>France</td>\n",
       "    </tr>\n",
       "    <tr>\n",
       "      <th>1</th>\n",
       "      <td>79</td>\n",
       "      <td>2021-06-02 05:42:15</td>\n",
       "      <td>72</td>\n",
       "      <td>Sales</td>\n",
       "      <td>France</td>\n",
       "      <td>63</td>\n",
       "      <td>Sales</td>\n",
       "      <td>France</td>\n",
       "    </tr>\n",
       "    <tr>\n",
       "      <th>2</th>\n",
       "      <td>79</td>\n",
       "      <td>2021-06-02 05:44:24</td>\n",
       "      <td>86</td>\n",
       "      <td>Sales</td>\n",
       "      <td>France</td>\n",
       "      <td>58</td>\n",
       "      <td>Sales</td>\n",
       "      <td>Germany</td>\n",
       "    </tr>\n",
       "    <tr>\n",
       "      <th>3</th>\n",
       "      <td>79</td>\n",
       "      <td>2021-06-02 05:49:07</td>\n",
       "      <td>26</td>\n",
       "      <td>Sales</td>\n",
       "      <td>France</td>\n",
       "      <td>70</td>\n",
       "      <td>Operations</td>\n",
       "      <td>France</td>\n",
       "    </tr>\n",
       "    <tr>\n",
       "      <th>4</th>\n",
       "      <td>79</td>\n",
       "      <td>2021-06-02 19:51:47</td>\n",
       "      <td>73</td>\n",
       "      <td>Sales</td>\n",
       "      <td>France</td>\n",
       "      <td>109</td>\n",
       "      <td>Marketing</td>\n",
       "      <td>Brasil</td>\n",
       "    </tr>\n",
       "  </tbody>\n",
       "</table>\n",
       "</div>"
      ],
      "text/plain": [
       "   sender_id            timestamp  ...  receiver_department receiever_location\n",
       "0         79  2021-06-02 05:41:34  ...                   IT             France\n",
       "1         79  2021-06-02 05:42:15  ...                Sales             France\n",
       "2         79  2021-06-02 05:44:24  ...                Sales            Germany\n",
       "3         79  2021-06-02 05:49:07  ...           Operations             France\n",
       "4         79  2021-06-02 19:51:47  ...            Marketing             Brasil\n",
       "\n",
       "[5 rows x 8 columns]"
      ]
     },
     "execution_count": 23,
     "metadata": {},
     "output_type": "execute_result"
    }
   ],
   "source": [
    "df.head()"
   ]
  },
  {
   "cell_type": "code",
   "execution_count": 24,
   "metadata": {},
   "outputs": [
    {
     "data": {
      "image/png": "[encoded data removed]",
      "text/plain": [
       "<Figure size 1152x648 with 1 Axes>"
      ]
     },
     "metadata": {
      "needs_background": "light"
     },
     "output_type": "display_data"
    }
   ],
   "source": [
    "fig,ax = plt.subplots(figsize=(16,9))\n",
    "ax = df.groupby([\"sender_id\"])['message_length'].sum().sort_values(ascending=False).iloc[:5].plot.bar()\n",
    "ax.bar_label(ax.containers[0])\n",
    "plt.xticks(rotation='horizontal');"
   ]
  },
  {
   "cell_type": "code",
   "execution_count": 25,
   "metadata": {},
   "outputs": [
    {
     "data": {
      "image/png": "[encoded data removed]",
      "text/plain": [
       "<Figure size 1152x648 with 1 Axes>"
      ]
     },
     "metadata": {
      "needs_background": "light"
     },
     "output_type": "display_data"
    }
   ],
   "source": [
    "fig,ax = plt.subplots(figsize=(16,9))\n",
    "ax = df.groupby([\"reciever_id\"])['message_length'].sum().sort_values(ascending=False).iloc[:5].plot.bar()\n",
    "ax.bar_label(ax.containers[0])\n",
    "plt.xticks(rotation='horizontal');\n"
   ]
  },
  {
   "cell_type": "code",
   "execution_count": 26,
   "metadata": {},
   "outputs": [
    {
     "data": {
      "image/png": "[encoded data removed]",
      "text/plain": [
       "<Figure size 1152x648 with 1 Axes>"
      ]
     },
     "metadata": {
      "needs_background": "light"
     },
     "output_type": "display_data"
    }
   ],
   "source": [
    "fig,ax = plt.subplots(figsize=(16,9))\n",
    "ax = df.groupby([\"sender_department\"])['message_length'].sum().sort_values(ascending=False).iloc[:5].plot.bar()\n",
    "ax.bar_label(ax.containers[0])\n",
    "plt.xticks(rotation='horizontal');\n"
   ]
  },
  {
   "cell_type": "code",
   "execution_count": 27,
   "metadata": {},
   "outputs": [
    {
     "data": {
      "text/html": [
       "<div>\n",
       "<style scoped>\n",
       "    .dataframe tbody tr th:only-of-type {\n",
       "        vertical-align: middle;\n",
       "    }\n",
       "\n",
       "    .dataframe tbody tr th {\n",
       "        vertical-align: top;\n",
       "    }\n",
       "\n",
       "    .dataframe thead th {\n",
       "        text-align: right;\n",
       "    }\n",
       "</style>\n",
       "<table border=\"1\" class=\"dataframe\">\n",
       "  <thead>\n",
       "    <tr style=\"text-align: right;\">\n",
       "      <th></th>\n",
       "      <th>sender_id</th>\n",
       "      <th>timestamp</th>\n",
       "      <th>message_length</th>\n",
       "      <th>sender_department</th>\n",
       "      <th>sender_location</th>\n",
       "      <th>reciever_id</th>\n",
       "      <th>receiver_department</th>\n",
       "      <th>receiever_location</th>\n",
       "    </tr>\n",
       "  </thead>\n",
       "  <tbody>\n",
       "    <tr>\n",
       "      <th>0</th>\n",
       "      <td>79</td>\n",
       "      <td>2021-06-02 05:41:34</td>\n",
       "      <td>88</td>\n",
       "      <td>Sales</td>\n",
       "      <td>France</td>\n",
       "      <td>48</td>\n",
       "      <td>IT</td>\n",
       "      <td>France</td>\n",
       "    </tr>\n",
       "    <tr>\n",
       "      <th>1</th>\n",
       "      <td>79</td>\n",
       "      <td>2021-06-02 05:42:15</td>\n",
       "      <td>72</td>\n",
       "      <td>Sales</td>\n",
       "      <td>France</td>\n",
       "      <td>63</td>\n",
       "      <td>Sales</td>\n",
       "      <td>France</td>\n",
       "    </tr>\n",
       "    <tr>\n",
       "      <th>2</th>\n",
       "      <td>79</td>\n",
       "      <td>2021-06-02 05:44:24</td>\n",
       "      <td>86</td>\n",
       "      <td>Sales</td>\n",
       "      <td>France</td>\n",
       "      <td>58</td>\n",
       "      <td>Sales</td>\n",
       "      <td>Germany</td>\n",
       "    </tr>\n",
       "    <tr>\n",
       "      <th>3</th>\n",
       "      <td>79</td>\n",
       "      <td>2021-06-02 05:49:07</td>\n",
       "      <td>26</td>\n",
       "      <td>Sales</td>\n",
       "      <td>France</td>\n",
       "      <td>70</td>\n",
       "      <td>Operations</td>\n",
       "      <td>France</td>\n",
       "    </tr>\n",
       "    <tr>\n",
       "      <th>4</th>\n",
       "      <td>79</td>\n",
       "      <td>2021-06-02 19:51:47</td>\n",
       "      <td>73</td>\n",
       "      <td>Sales</td>\n",
       "      <td>France</td>\n",
       "      <td>109</td>\n",
       "      <td>Marketing</td>\n",
       "      <td>Brasil</td>\n",
       "    </tr>\n",
       "  </tbody>\n",
       "</table>\n",
       "</div>"
      ],
      "text/plain": [
       "   sender_id            timestamp  ...  receiver_department receiever_location\n",
       "0         79  2021-06-02 05:41:34  ...                   IT             France\n",
       "1         79  2021-06-02 05:42:15  ...                Sales             France\n",
       "2         79  2021-06-02 05:44:24  ...                Sales            Germany\n",
       "3         79  2021-06-02 05:49:07  ...           Operations             France\n",
       "4         79  2021-06-02 19:51:47  ...            Marketing             Brasil\n",
       "\n",
       "[5 rows x 8 columns]"
      ]
     },
     "execution_count": 27,
     "metadata": {},
     "output_type": "execute_result"
    }
   ],
   "source": [
    "df.head()"
   ]
  },
  {
   "cell_type": "code",
   "execution_count": 28,
   "metadata": {},
   "outputs": [
    {
     "data": {
      "image/png": "[encoded data removed]",
      "text/plain": [
       "<Figure size 1152x648 with 1 Axes>"
      ]
     },
     "metadata": {
      "needs_background": "light"
     },
     "output_type": "display_data"
    }
   ],
   "source": [
    "# Sender Location that Grouped by Sender_ Departments\n",
    "fig,ax = plt.subplots(figsize=(16,9))\n",
    "order1 = ['Sales','Operations','Admin','IT','Marketing','Engineering']\n",
    "ax = sns.countplot(data=df, x=df['sender_location'],hue='sender_department',hue_order=order1)\n",
    "plt.legend(loc='upper right')\n",
    "for p in ax.patches:\n",
    "    ax.annotate((p.get_height()), (p.get_x()- 0.01, p.get_height()+ 0.03));\n"
   ]
  },
  {
   "cell_type": "code",
   "execution_count": 29,
   "metadata": {},
   "outputs": [
    {
     "data": {
      "image/png": "[encoded data removed]",
      "text/plain": [
       "<Figure size 1152x648 with 1 Axes>"
      ]
     },
     "metadata": {
      "needs_background": "light"
     },
     "output_type": "display_data"
    }
   ],
   "source": [
    "fig,ax = plt.subplots(figsize=(16,9))\n",
    "order1 = ['Sales','Operations','Admin','IT','Marketing','Engineering']\n",
    "ax = sns.countplot(data=df, x=df['receiever_location'],hue='receiver_department',hue_order=order1)\n",
    "plt.legend(loc='upper center')\n",
    "for p in ax.patches:\n",
    "    ax.annotate((p.get_height()), (p.get_x()+ 0.01, p.get_height() + 0.1));\n"
   ]
  },
  {
   "cell_type": "code",
   "execution_count": 30,
   "metadata": {},
   "outputs": [
    {
     "data": {
      "text/html": [
       "<div>\n",
       "<style scoped>\n",
       "    .dataframe tbody tr th:only-of-type {\n",
       "        vertical-align: middle;\n",
       "    }\n",
       "\n",
       "    .dataframe tbody tr th {\n",
       "        vertical-align: top;\n",
       "    }\n",
       "\n",
       "    .dataframe thead th {\n",
       "        text-align: right;\n",
       "    }\n",
       "</style>\n",
       "<table border=\"1\" class=\"dataframe\">\n",
       "  <thead>\n",
       "    <tr style=\"text-align: right;\">\n",
       "      <th></th>\n",
       "      <th>sender_id</th>\n",
       "      <th>timestamp</th>\n",
       "      <th>message_length</th>\n",
       "      <th>sender_department</th>\n",
       "      <th>sender_location</th>\n",
       "      <th>reciever_id</th>\n",
       "      <th>receiver_department</th>\n",
       "      <th>receiever_location</th>\n",
       "    </tr>\n",
       "  </thead>\n",
       "  <tbody>\n",
       "    <tr>\n",
       "      <th>0</th>\n",
       "      <td>79</td>\n",
       "      <td>2021-06-02 05:41:34</td>\n",
       "      <td>88</td>\n",
       "      <td>Sales</td>\n",
       "      <td>France</td>\n",
       "      <td>48</td>\n",
       "      <td>IT</td>\n",
       "      <td>France</td>\n",
       "    </tr>\n",
       "    <tr>\n",
       "      <th>1</th>\n",
       "      <td>79</td>\n",
       "      <td>2021-06-02 05:42:15</td>\n",
       "      <td>72</td>\n",
       "      <td>Sales</td>\n",
       "      <td>France</td>\n",
       "      <td>63</td>\n",
       "      <td>Sales</td>\n",
       "      <td>France</td>\n",
       "    </tr>\n",
       "    <tr>\n",
       "      <th>2</th>\n",
       "      <td>79</td>\n",
       "      <td>2021-06-02 05:44:24</td>\n",
       "      <td>86</td>\n",
       "      <td>Sales</td>\n",
       "      <td>France</td>\n",
       "      <td>58</td>\n",
       "      <td>Sales</td>\n",
       "      <td>Germany</td>\n",
       "    </tr>\n",
       "    <tr>\n",
       "      <th>3</th>\n",
       "      <td>79</td>\n",
       "      <td>2021-06-02 05:49:07</td>\n",
       "      <td>26</td>\n",
       "      <td>Sales</td>\n",
       "      <td>France</td>\n",
       "      <td>70</td>\n",
       "      <td>Operations</td>\n",
       "      <td>France</td>\n",
       "    </tr>\n",
       "    <tr>\n",
       "      <th>4</th>\n",
       "      <td>79</td>\n",
       "      <td>2021-06-02 19:51:47</td>\n",
       "      <td>73</td>\n",
       "      <td>Sales</td>\n",
       "      <td>France</td>\n",
       "      <td>109</td>\n",
       "      <td>Marketing</td>\n",
       "      <td>Brasil</td>\n",
       "    </tr>\n",
       "  </tbody>\n",
       "</table>\n",
       "</div>"
      ],
      "text/plain": [
       "   sender_id            timestamp  ...  receiver_department receiever_location\n",
       "0         79  2021-06-02 05:41:34  ...                   IT             France\n",
       "1         79  2021-06-02 05:42:15  ...                Sales             France\n",
       "2         79  2021-06-02 05:44:24  ...                Sales            Germany\n",
       "3         79  2021-06-02 05:49:07  ...           Operations             France\n",
       "4         79  2021-06-02 19:51:47  ...            Marketing             Brasil\n",
       "\n",
       "[5 rows x 8 columns]"
      ]
     },
     "execution_count": 30,
     "metadata": {},
     "output_type": "execute_result"
    }
   ],
   "source": [
    "df.head()"
   ]
  },
  {
   "cell_type": "code",
   "execution_count": 31,
   "metadata": {},
   "outputs": [
    {
     "data": {
      "text/html": [
       "<div>\n",
       "<style scoped>\n",
       "    .dataframe tbody tr th:only-of-type {\n",
       "        vertical-align: middle;\n",
       "    }\n",
       "\n",
       "    .dataframe tbody tr th {\n",
       "        vertical-align: top;\n",
       "    }\n",
       "\n",
       "    .dataframe thead th {\n",
       "        text-align: right;\n",
       "    }\n",
       "</style>\n",
       "<table border=\"1\" class=\"dataframe\">\n",
       "  <thead>\n",
       "    <tr style=\"text-align: right;\">\n",
       "      <th></th>\n",
       "      <th></th>\n",
       "      <th>sender_department</th>\n",
       "    </tr>\n",
       "    <tr>\n",
       "      <th>sender_location</th>\n",
       "      <th>sender_department</th>\n",
       "      <th></th>\n",
       "    </tr>\n",
       "  </thead>\n",
       "  <tbody>\n",
       "    <tr>\n",
       "      <th rowspan=\"4\" valign=\"top\">Brasil</th>\n",
       "      <th>Sales</th>\n",
       "      <td>79</td>\n",
       "    </tr>\n",
       "    <tr>\n",
       "      <th>Operations</th>\n",
       "      <td>44</td>\n",
       "    </tr>\n",
       "    <tr>\n",
       "      <th>IT</th>\n",
       "      <td>2</td>\n",
       "    </tr>\n",
       "    <tr>\n",
       "      <th>Engineering</th>\n",
       "      <td>1</td>\n",
       "    </tr>\n",
       "    <tr>\n",
       "      <th rowspan=\"5\" valign=\"top\">France</th>\n",
       "      <th>Sales</th>\n",
       "      <td>748</td>\n",
       "    </tr>\n",
       "    <tr>\n",
       "      <th>Admin</th>\n",
       "      <td>493</td>\n",
       "    </tr>\n",
       "    <tr>\n",
       "      <th>Operations</th>\n",
       "      <td>242</td>\n",
       "    </tr>\n",
       "    <tr>\n",
       "      <th>IT</th>\n",
       "      <td>8</td>\n",
       "    </tr>\n",
       "    <tr>\n",
       "      <th>Engineering</th>\n",
       "      <td>2</td>\n",
       "    </tr>\n",
       "    <tr>\n",
       "      <th rowspan=\"6\" valign=\"top\">Germany</th>\n",
       "      <th>Sales</th>\n",
       "      <td>217</td>\n",
       "    </tr>\n",
       "    <tr>\n",
       "      <th>Admin</th>\n",
       "      <td>31</td>\n",
       "    </tr>\n",
       "    <tr>\n",
       "      <th>IT</th>\n",
       "      <td>26</td>\n",
       "    </tr>\n",
       "    <tr>\n",
       "      <th>Operations</th>\n",
       "      <td>25</td>\n",
       "    </tr>\n",
       "    <tr>\n",
       "      <th>Marketing</th>\n",
       "      <td>12</td>\n",
       "    </tr>\n",
       "    <tr>\n",
       "      <th>Engineering</th>\n",
       "      <td>6</td>\n",
       "    </tr>\n",
       "    <tr>\n",
       "      <th rowspan=\"2\" valign=\"top\">UK</th>\n",
       "      <th>Sales</th>\n",
       "      <td>37</td>\n",
       "    </tr>\n",
       "    <tr>\n",
       "      <th>Admin</th>\n",
       "      <td>23</td>\n",
       "    </tr>\n",
       "    <tr>\n",
       "      <th rowspan=\"6\" valign=\"top\">US</th>\n",
       "      <th>Operations</th>\n",
       "      <td>702</td>\n",
       "    </tr>\n",
       "    <tr>\n",
       "      <th>Sales</th>\n",
       "      <td>470</td>\n",
       "    </tr>\n",
       "    <tr>\n",
       "      <th>Admin</th>\n",
       "      <td>310</td>\n",
       "    </tr>\n",
       "    <tr>\n",
       "      <th>Engineering</th>\n",
       "      <td>17</td>\n",
       "    </tr>\n",
       "    <tr>\n",
       "      <th>IT</th>\n",
       "      <td>13</td>\n",
       "    </tr>\n",
       "    <tr>\n",
       "      <th>Marketing</th>\n",
       "      <td>4</td>\n",
       "    </tr>\n",
       "  </tbody>\n",
       "</table>\n",
       "</div>"
      ],
      "text/plain": [
       "                                   sender_department\n",
       "sender_location sender_department                   \n",
       "Brasil          Sales                             79\n",
       "                Operations                        44\n",
       "                IT                                 2\n",
       "                Engineering                        1\n",
       "France          Sales                            748\n",
       "                Admin                            493\n",
       "                Operations                       242\n",
       "                IT                                 8\n",
       "                Engineering                        2\n",
       "Germany         Sales                            217\n",
       "                Admin                             31\n",
       "                IT                                26\n",
       "                Operations                        25\n",
       "                Marketing                         12\n",
       "                Engineering                        6\n",
       "UK              Sales                             37\n",
       "                Admin                             23\n",
       "US              Operations                       702\n",
       "                Sales                            470\n",
       "                Admin                            310\n",
       "                Engineering                       17\n",
       "                IT                                13\n",
       "                Marketing                          4"
      ]
     },
     "execution_count": 31,
     "metadata": {},
     "output_type": "execute_result"
    }
   ],
   "source": [
    "pd.DataFrame(df.groupby('sender_location')['sender_department'].value_counts(ascending=False))"
   ]
  },
  {
   "cell_type": "code",
   "execution_count": null,
   "metadata": {},
   "outputs": [],
   "source": []
  }
 ],
 "metadata": {
  "kernelspec": {
   "display_name": "Python 3.9.12 ('base')",
   "language": "python",
   "name": "python3"
  },
  "language_info": {
   "codemirror_mode": {
    "name": "ipython",
    "version": 3
   },
   "file_extension": ".py",
   "mimetype": "text/x-python",
   "name": "python",
   "nbconvert_exporter": "python",
   "pygments_lexer": "ipython3",
   "version": "3.9.12"
  },
  "orig_nbformat": 4,
  "vscode": {
   "interpreter": {
    "hash": "5f900ec07cbfb8c8f57afcfc22fbe22521cf19f8563a582cb15bdf35f378448f"
   }
  }
 },
 "nbformat": 4,
 "nbformat_minor": 2
}
